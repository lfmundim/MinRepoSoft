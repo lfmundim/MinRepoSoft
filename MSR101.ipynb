{
 "cells": [
  {
   "cell_type": "markdown",
   "metadata": {},
   "source": [
    "#  Mining Software Repositories - 101\n",
    "\n",
    "A few possible things to gather from any Git Repo by using `Python` and `GitPython`.\n",
    "\n",
    "The implementations viewed here are *examples*. There probably are more *efficient* ways to do most of what is shown here, but this notebook aims to give basic examples to motivate the study of Git Repos."
   ]
  },
  {
   "cell_type": "markdown",
   "metadata": {},
   "source": [
    "## Startup\n",
    "\n",
    "First of all you'll need to install `gitpython`. You can check on how to [Here](https://gitpython.readthedocs.io/en/stable/). Assuming you already have `Python3` installed, all you need to do is type the following in your terminal:\n",
    "\n",
    "```bash\n",
    "pip install gitpython\n",
    "```\n",
    "\n",
    "After doing so, create your `.py` file, and lets get started."
   ]
  },
  {
   "cell_type": "code",
   "execution_count": 14,
   "metadata": {},
   "outputs": [],
   "source": [
    "from git import Repo\n",
    "# we will also use Regex and time manipulation for this project, so lets add those as well\n",
    "import time\n",
    "import re as regex\n",
    "# we might as well generate some plots\n",
    "import matplotlib.pyplot as plt"
   ]
  },
  {
   "cell_type": "markdown",
   "metadata": {},
   "source": [
    "We will need a repo to use. GitPython allows you to clone by using a simple function:"
   ]
  },
  {
   "cell_type": "code",
   "execution_count": 2,
   "metadata": {},
   "outputs": [],
   "source": [
    "# Repo.clone_from(repo_url, directory_to_clone_onto)\n",
    "# This example will clone the repo 'lime-csharp' from 'takenet' onto the './lime-chsarp'\n",
    "try:\n",
    "    Repo.clone_from('https://github.com/takenet/lime-csharp', './lime-csharp')\n",
    "except:\n",
    "    print('Repo already cloned or folder not empty. Skipping')"
   ]
  },
  {
   "cell_type": "markdown",
   "metadata": {},
   "source": [
    "If you already have a repo you want to use, you can simply select it:"
   ]
  },
  {
   "cell_type": "code",
   "execution_count": 3,
   "metadata": {},
   "outputs": [],
   "source": [
    "# Repo(repo_folder)\n",
    "# We are selecting the above-cloned repo\n",
    "repo = Repo('./lime-csharp')"
   ]
  },
  {
   "cell_type": "markdown",
   "metadata": {},
   "source": [
    "We now have a cloned and referenced repo to use.\n",
    "\n",
    "Lets start as simple as it gets: how many commits does the repo have?"
   ]
  },
  {
   "cell_type": "code",
   "execution_count": 4,
   "metadata": {},
   "outputs": [
    {
     "name": "stdout",
     "output_type": "stream",
     "text": [
      "Total number of repo commits: 1151\n"
     ]
    }
   ],
   "source": [
    "# Create an iterable with all commits from the repo\n",
    "allCommits = repo.iter_commits()\n",
    "\n",
    "# Count how many commits exist\n",
    "totalCommits = 0\n",
    "while True:\n",
    "    try:\n",
    "        element = next(allCommits)\n",
    "        totalCommits += 1\n",
    "    except StopIteration:\n",
    "        break;\n",
    "print('Total number of repo commits: %d'%totalCommits)"
   ]
  },
  {
   "cell_type": "markdown",
   "metadata": {},
   "source": [
    "We can also filter those commits. For example, we can filter for commits only on 2017. To do so, we will use the attribute `committed_date` from the commit element:"
   ]
  },
  {
   "cell_type": "code",
   "execution_count": 5,
   "metadata": {},
   "outputs": [
    {
     "name": "stdout",
     "output_type": "stream",
     "text": [
      "Commit:  9bf513720b9f4019ef9fc4836bfab9608d817224\n",
      "Committed date:  1551994040\n"
     ]
    }
   ],
   "source": [
    "allCommits = repo.iter_commits()\n",
    "latest = next(allCommits)\n",
    "print('Commit: ', latest)\n",
    "print('Committed date: ', latest.committed_date)"
   ]
  },
  {
   "cell_type": "markdown",
   "metadata": {},
   "source": [
    "While we're here, lets see some other stuff we got using the `commit` object:"
   ]
  },
  {
   "cell_type": "code",
   "execution_count": 7,
   "metadata": {},
   "outputs": [
    {
     "name": "stdout",
     "output_type": "stream",
     "text": [
      "Committer:  André Bires\n",
      "Committer email:  andrebires@gmail.com\n",
      "Author:  André Bires\n",
      "Author email:  andrebires@gmail.com\n",
      "Authored date:  1551994040\n",
      "Commit message:  Allow passing ssl and http protocols to kestrel websocket transport listener\n",
      "\n",
      "Files edited, with deletions and insertions:  {'src/Lime.Transport.WebSocket/Kestrel/KestrelWebSocketTransportListener.cs': {'insertions': 5, 'deletions': 3, 'lines': 8}}\n",
      "Parents:  (<git.Commit \"07477f06430a782b6cdc0f00282a3e103fdc200c\">,)\n",
      "Parents author:  André Bires\n"
     ]
    }
   ],
   "source": [
    "print('Committer: ', latest.committer)\n",
    "print('Committer email: ', latest.committer.email)\n",
    "print('Author: ', latest.author)\n",
    "print('Author email: ', latest.author.email)\n",
    "print('Authored date: ', latest.authored_date)\n",
    "print('Commit message: ', latest.message)\n",
    "print('Files edited, with deletions and insertions: ', latest.stats.files)\n",
    "print('Parents: ', latest.parents)\n",
    "print('Parents author: ', latest.parents[0].author)\n",
    "# And so on..."
   ]
  },
  {
   "cell_type": "markdown",
   "metadata": {},
   "source": [
    "More information can be seen [here](https://gitpython.readthedocs.io/en/stable/tutorial.html#the-commit-object)"
   ]
  },
  {
   "cell_type": "markdown",
   "metadata": {},
   "source": [
    "Back into mining. Lets see one way to check all commits made on 2017:"
   ]
  },
  {
   "cell_type": "code",
   "execution_count": 16,
   "metadata": {},
   "outputs": [
    {
     "name": "stdout",
     "output_type": "stream",
     "text": [
      "Total commits in 2017:  118\n"
     ]
    }
   ],
   "source": [
    "# get the commit's year\n",
    "def GetCommitYear(element):\n",
    "    return time.strftime(\"%Y\", time.gmtime(element.committed_date))\n",
    "\n",
    "allCommits = repo.iter_commits()\n",
    "count = 0\n",
    "while True:\n",
    "    try:\n",
    "        element = next(allCommits)\n",
    "        if(GetCommitYear(element)=='2017'):\n",
    "            count += 1\n",
    "    except StopIteration:\n",
    "        break\n",
    "print('Total commits in 2017: ', count)"
   ]
  },
  {
   "cell_type": "markdown",
   "metadata": {},
   "source": [
    "With such filters, we can generate some interesting plots:"
   ]
  },
  {
   "cell_type": "code",
   "execution_count": 23,
   "metadata": {},
   "outputs": [
    {
     "data": {
      "text/plain": [
       "[<matplotlib.lines.Line2D at 0x11adf5eb8>]"
      ]
     },
     "execution_count": 23,
     "metadata": {},
     "output_type": "execute_result"
    },
    {
     "data": {
      "image/png": "[encoded data removed]",
      "text/plain": [
       "<Figure size 432x288 with 1 Axes>"
      ]
     },
     "metadata": {
      "needs_background": "light"
     },
     "output_type": "display_data"
    }
   ],
   "source": [
    "allCommits = repo.iter_commits()\n",
    "count = 0\n",
    "dictionary = {}\n",
    "while True:\n",
    "    try:\n",
    "        element = next(allCommits)\n",
    "        commitYear = GetCommitYear(element)\n",
    "        if commitYear in dictionary:\n",
    "            dictionary[commitYear] = dictionary[commitYear] + 1\n",
    "        else:\n",
    "            dictionary[commitYear] = 1\n",
    "    except StopIteration:\n",
    "        break\n",
    "        \n",
    "dates = list(dictionary.keys())           # list() needed for python 3.x\n",
    "prices = list(dictionary.values())        # ditto\n",
    "dates.reverse()\n",
    "prices.reverse()\n",
    "plt.plot_date(dates, prices, '-') # this will show date at the x-axis"
   ]
  },
  {
   "cell_type": "markdown",
   "metadata": {},
   "source": [
    "We can filter even more, to commits on that year AND made by a given author:"
   ]
  },
  {
   "cell_type": "code",
   "execution_count": 24,
   "metadata": {},
   "outputs": [
    {
     "name": "stdout",
     "output_type": "stream",
     "text": [
      "Total commits by 'andrebires@gmail.com' in 2017:  45\n"
     ]
    }
   ],
   "source": [
    "allCommits = repo.iter_commits()\n",
    "count = 0\n",
    "while True:\n",
    "    try:\n",
    "        element = next(allCommits)\n",
    "        if(GetCommitYear(element)=='2017' and element.author.email=='andrebires@gmail.com'):\n",
    "            count += 1\n",
    "    except StopIteration:\n",
    "        break\n",
    "print('Total commits by \\'andrebires@gmail.com\\' in 2017: ', count)"
   ]
  },
  {
   "cell_type": "markdown",
   "metadata": {},
   "source": [
    "We can also try to predict the importance of a given commit by it's message. A few common keywords to indicate important commits are 'fix' or 'feature'. Lets try those:"
   ]
  },
  {
   "cell_type": "code",
   "execution_count": 25,
   "metadata": {},
   "outputs": [
    {
     "name": "stdout",
     "output_type": "stream",
     "text": [
      "Commits with message containing 'fix':  35\n",
      "Commits with message containing 'feature':  4\n"
     ]
    }
   ],
   "source": [
    "def GetCommitsWithMessage(repo, message):\n",
    "    allCommits = repo.iter_commits()\n",
    "    count = 0\n",
    "    while True:\n",
    "        try:\n",
    "            element = next(allCommits)\n",
    "            if(element.message.find(message)>=0):\n",
    "                count = count + 1\n",
    "        except StopIteration:\n",
    "            break\n",
    "    return count\n",
    "\n",
    "commitsWithFix = GetCommitsWithMessage(repo, 'fix')\n",
    "commitsWithFeature = GetCommitsWithMessage(repo, 'feature')\n",
    "print('Commits with message containing \\'fix\\': ', commitsWithFix)\n",
    "print('Commits with message containing \\'feature\\': ', commitsWithFeature)"
   ]
  },
  {
   "cell_type": "markdown",
   "metadata": {},
   "source": [
    "Now, lets say you want to check what files are most important. One way to try to identify them is to check which files are most modified."
   ]
  },
  {
   "cell_type": "code",
   "execution_count": 26,
   "metadata": {},
   "outputs": [
    {
     "name": "stdout",
     "output_type": "stream",
     "text": [
      "Top 10 modified files:\n",
      "src/Lime.Client.TestConsole/Lime.Client.TestConsole.csproj 122\n",
      "src/Lime.Protocol/Lime.Protocol.csproj 103\n",
      "src/Lime.Protocol.UnitTests/Lime.Protocol.UnitTests.csproj 88\n",
      "src/Lime.Protocol.UnitTests/Network/ChannelBaseTests.cs 81\n",
      "src/Lime.Protocol/Network/ChannelBase.cs 74\n",
      "src/Lime.sln 58\n",
      "src/Lime.Client.TestConsole/Templates.txt 53\n",
      "src/Lime.Protocol.UnitTests/Client/ClientChannelTests.cs 47\n",
      "src/Lime.Client.Windows/Lime.Client.Windows.csproj 47\n",
      "src/Lime.Client.TestConsole/ViewModels/SessionViewModel.cs 46\n"
     ]
    }
   ],
   "source": [
    "allCommits = repo.iter_commits()\n",
    "dictionary = {}\n",
    "count = 0\n",
    "while True:\n",
    "    try:\n",
    "        element = next(allCommits)\n",
    "        for key in element.stats.files:\n",
    "            if key in dictionary:\n",
    "                dictionary[key] = dictionary[key] + 1\n",
    "            else:\n",
    "                dictionary[key] = 1\n",
    "    except StopIteration:\n",
    "        break\n",
    "print(\"Top 10 modified files:\")\n",
    "for key, value in sorted(dictionary.items(), key=lambda kv: kv[1], reverse=True):\n",
    "    print (key, value)\n",
    "    count = count + 1\n",
    "    if count == 10:\n",
    "        break"
   ]
  },
  {
   "cell_type": "markdown",
   "metadata": {},
   "source": [
    "That isn't exactly as precise as we need: files with extensions like `.csproj` or `.txt` aren't as relevant as `.cs`. Lets filter that as well:"
   ]
  },
  {
   "cell_type": "code",
   "execution_count": 27,
   "metadata": {},
   "outputs": [
    {
     "name": "stdout",
     "output_type": "stream",
     "text": [
      "Top 10 modified files:\n",
      "src/Lime.Protocol.UnitTests/Network/ChannelBaseTests.cs 81\n",
      "src/Lime.Protocol/Network/ChannelBase.cs 74\n",
      "src/Lime.Protocol.UnitTests/Client/ClientChannelTests.cs 47\n",
      "src/Lime.Client.TestConsole/ViewModels/SessionViewModel.cs 46\n",
      "src/Lime.Protocol/Serialization/TypeUtil.cs 45\n",
      "src/Lime.Protocol.UnitTests/Network/Modules/ResendMessagesChannelModuleTests.cs 43\n",
      "src/Lime.Protocol.UnitTests/Serialization/EnvelopeSerializerTests.cs 43\n",
      "src/Lime.Protocol/Lime.Protocol/Network/ChannelBase.cs 43\n",
      "src/Lime.Transport.WebSocket/WebSocketTransport.cs 40\n",
      "src/Lime.Protocol/Client/ClientChannel.cs 38\n"
     ]
    }
   ],
   "source": [
    "allCommits = repo.iter_commits()\n",
    "dictionary = {}\n",
    "count = 0\n",
    "while True:\n",
    "    try:\n",
    "        element = next(allCommits)\n",
    "        for key in element.stats.files:\n",
    "            if(key.endswith('.cs')):\n",
    "                if key in dictionary:\n",
    "                    dictionary[key] = dictionary[key] + 1\n",
    "                else:\n",
    "                    dictionary[key] = 1\n",
    "    except StopIteration:\n",
    "        break\n",
    "print(\"Top 10 modified files:\")\n",
    "for key, value in sorted(dictionary.items(), key=lambda kv: kv[1], reverse=True):\n",
    "    print (key, value)\n",
    "    count = count + 1\n",
    "    if count == 10:\n",
    "        break"
   ]
  },
  {
   "cell_type": "markdown",
   "metadata": {},
   "source": [
    "Another useful metric is who are the repo's most active committers:"
   ]
  },
  {
   "cell_type": "code",
   "execution_count": 28,
   "metadata": {},
   "outputs": [
    {
     "name": "stdout",
     "output_type": "stream",
     "text": [
      "Top 10 Committers:\n",
      "André Bires 589\n",
      "André Bires Fonseca 203\n",
      "André Bires Fonseca (Takenet) 106\n",
      "André C. O. Minelli 77\n",
      "Rafael Avelar Pacheco 39\n",
      "GabrielBico 26\n",
      "Aldo Catella (Takenet) 22\n",
      "aldo 21\n",
      "André Minelli 16\n",
      "Nicolas Bontempo 11\n"
     ]
    }
   ],
   "source": [
    "allCommits = repo.iter_commits()\n",
    "dictionary = {}\n",
    "count = 0\n",
    "while True:\n",
    "    try:\n",
    "        element = next(allCommits)\n",
    "        if element.author.name in dictionary:\n",
    "            dictionary[element.author.name] = dictionary[element.author.name] + 1\n",
    "        else:\n",
    "            dictionary[element.author.name] = 1\n",
    "    except StopIteration:\n",
    "        break\n",
    "print('Top 10 Committers:')\n",
    "for key, value in sorted(dictionary.items(), key=lambda kv: kv[1], reverse=True):\n",
    "    print (key, value)\n",
    "    count = count + 1\n",
    "    if count == 10:\n",
    "        break"
   ]
  },
  {
   "cell_type": "markdown",
   "metadata": {},
   "source": [
    "With that information we can even generate a commit-plot:"
   ]
  },
  {
   "cell_type": "code",
   "execution_count": 29,
   "metadata": {},
   "outputs": [
    {
     "data": {
      "text/plain": [
       "([<matplotlib.axis.XTick at 0x11af59438>,\n",
       "  <matplotlib.axis.XTick at 0x11aef9940>,\n",
       "  <matplotlib.axis.XTick at 0x11aef9860>,\n",
       "  <matplotlib.axis.XTick at 0x11afc02b0>,\n",
       "  <matplotlib.axis.XTick at 0x11afc0710>,\n",
       "  <matplotlib.axis.XTick at 0x11afc0ac8>,\n",
       "  <matplotlib.axis.XTick at 0x11afc0c88>,\n",
       "  <matplotlib.axis.XTick at 0x11afc8518>,\n",
       "  <matplotlib.axis.XTick at 0x11afc8a20>,\n",
       "  <matplotlib.axis.XTick at 0x11afc8f28>,\n",
       "  <matplotlib.axis.XTick at 0x11afd1470>,\n",
       "  <matplotlib.axis.XTick at 0x11afd1978>,\n",
       "  <matplotlib.axis.XTick at 0x11afd1e80>,\n",
       "  <matplotlib.axis.XTick at 0x11afd1518>,\n",
       "  <matplotlib.axis.XTick at 0x11afc89e8>,\n",
       "  <matplotlib.axis.XTick at 0x11afda2b0>,\n",
       "  <matplotlib.axis.XTick at 0x11afda860>,\n",
       "  <matplotlib.axis.XTick at 0x11afdad68>,\n",
       "  <matplotlib.axis.XTick at 0x11afe12b0>,\n",
       "  <matplotlib.axis.XTick at 0x11afe17b8>,\n",
       "  <matplotlib.axis.XTick at 0x11afe1cc0>,\n",
       "  <matplotlib.axis.XTick at 0x11afea208>,\n",
       "  <matplotlib.axis.XTick at 0x11afe1710>,\n",
       "  <matplotlib.axis.XTick at 0x11afda908>,\n",
       "  <matplotlib.axis.XTick at 0x11afea5c0>],\n",
       " <a list of 25 Text xticklabel objects>)"
      ]
     },
     "execution_count": 29,
     "metadata": {},
     "output_type": "execute_result"
    },
    {
     "data": {
      "image/png": "[encoded data removed]",
      "text/plain": [
       "<Figure size 432x288 with 1 Axes>"
      ]
     },
     "metadata": {
      "needs_background": "light"
     },
     "output_type": "display_data"
    }
   ],
   "source": [
    "plt.bar(range(len(dictionary)), list(dictionary.values()), align='center')\n",
    "plt.xticks(range(len(dictionary)), list(dictionary.keys()), rotation='vertical')"
   ]
  },
  {
   "cell_type": "markdown",
   "metadata": {},
   "source": [
    "From that we get a very interesting metric: the project is *highly* dependant on 'André Bires', as he has **over half the commits of the entire repo**:"
   ]
  },
  {
   "cell_type": "code",
   "execution_count": 30,
   "metadata": {},
   "outputs": [
    {
     "name": "stdout",
     "output_type": "stream",
     "text": [
      "André Bires's commits:  898\n",
      "Total commits:  1151\n",
      "Ratio:  0.7801911381407471\n"
     ]
    }
   ],
   "source": [
    "count = 0\n",
    "for key, value in sorted(dictionary.items(), key=lambda kv: kv[1], reverse=True):\n",
    "    if(key.find('André Bires')>=0):\n",
    "        count += value\n",
    "print('André Bires\\'s commits: ', count)\n",
    "print('Total commits: ', totalCommits)\n",
    "print('Ratio: ', count/totalCommits)"
   ]
  },
  {
   "cell_type": "markdown",
   "metadata": {},
   "source": [
    "Lastly (for this *basics* guide, at least), you can check how many times a given `string` was added or removed from a line. Lets check for example how many times a `List<*>` object was created, and how many times the same type of object was removed:"
   ]
  },
  {
   "cell_type": "code",
   "execution_count": 31,
   "metadata": {},
   "outputs": [
    {
     "name": "stdout",
     "output_type": "stream",
     "text": [
      "Number of 'List<*>' Edits: 108 adds\n",
      "Number of 'List<*>' Edits: 154 removes\n"
     ]
    }
   ],
   "source": [
    "def FindAddsOrRemoves(add):\n",
    "    allCommits = repo.iter_commits()\n",
    "    total = 0\n",
    "    if(add):\n",
    "        searchRegex = r\"\\+.*List<.*>.*\\n\"\n",
    "    else:\n",
    "        searchRegex = r\"\\-.*List<.*>.*\\n\"\n",
    "    while True:\n",
    "        try:\n",
    "            element = next(allCommits)\n",
    "            nextCommit = next(allCommits)\n",
    "            # by using the 'repo.git' object you can issue all sorts of git commands.\n",
    "            # reference for that can be found here: https://gitpython.readthedocs.io/en/stable/tutorial.html#using-git-directly\n",
    "            diff = repo.git.diff(element, nextCommit)\n",
    "            allLists = regex.findall(searchRegex, diff)\n",
    "            total = total + len(allLists)\n",
    "        except StopIteration:\n",
    "            print(\"Number of \\'List<*>\\' Edits: %d %s\" % (total, \"adds\" if add else \"removes\"))\n",
    "            break\n",
    "\n",
    "FindAddsOrRemoves(True)\n",
    "FindAddsOrRemoves(False)"
   ]
  },
  {
   "cell_type": "markdown",
   "metadata": {},
   "source": [
    "A complete `Python Script` containing the above examples (with a few extra filters) can be found [here](https://github.com/lfmundim/MinRepoSoft/blob/master/Exercicio1/main.py)"
   ]
  },
  {
   "cell_type": "code",
   "execution_count": 49,
   "metadata": {},
   "outputs": [],
   "source": [
    "# clearing the cloned repo\n",
    "import shutil\n",
    "shutil.rmtree('./lime-csharp', ignore_errors=True)"
   ]
  },
  {
   "cell_type": "code",
   "execution_count": null,
   "metadata": {},
   "outputs": [],
   "source": []
  }
 ],
 "metadata": {
  "kernelspec": {
   "display_name": "Python 3",
   "language": "python",
   "name": "python3"
  },
  "language_info": {
   "codemirror_mode": {
    "name": "ipython",
    "version": 3
   },
   "file_extension": ".py",
   "mimetype": "text/x-python",
   "name": "python",
   "nbconvert_exporter": "python",
   "pygments_lexer": "ipython3",
   "version": "3.7.2"
  }
 },
 "nbformat": 4,
 "nbformat_minor": 2
}
