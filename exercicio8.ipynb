{
 "cells": [
  {
   "cell_type": "markdown",
   "metadata": {},
   "source": [
    "# Exercise 8: GitHub Analysis\n",
    "\n",
    "Set-up"
   ]
  },
  {
   "cell_type": "code",
   "execution_count": 42,
   "metadata": {},
   "outputs": [],
   "source": [
    "from github import Github\n",
    "\n",
    "def iterator_printer(iterator, take):\n",
    "    it = 0\n",
    "    for item in iterator:\n",
    "        print(item)\n",
    "        it += 1\n",
    "        if it == take:\n",
    "            break\n",
    "\n",
    "octocat = Github()"
   ]
  },
  {
   "cell_type": "markdown",
   "metadata": {},
   "source": [
    "1. Languages of `torvalds/linux`\n",
    "    * API Equivalent: https://api.github.com/repos/torvalds/linux/languages"
   ]
  },
  {
   "cell_type": "code",
   "execution_count": 13,
   "metadata": {},
   "outputs": [
    {
     "name": "stdout",
     "output_type": "stream",
     "text": [
      "Repository(full_name=\"torvalds/linux\")\n"
     ]
    },
    {
     "data": {
      "text/plain": [
       "{'C': 727854091,\n",
       " 'C++': 10571337,\n",
       " 'Assembly': 9690428,\n",
       " 'Objective-C': 2134065,\n",
       " 'Makefile': 1934194,\n",
       " 'Shell': 1467582,\n",
       " 'Perl': 930614,\n",
       " 'Python': 866938,\n",
       " 'Roff': 129990,\n",
       " 'Yacc': 120185,\n",
       " 'Lex': 61836,\n",
       " 'Awk': 48989,\n",
       " 'UnrealScript': 17733,\n",
       " 'Gherkin': 8151,\n",
       " 'M4': 3325,\n",
       " 'XS': 1239,\n",
       " 'Clojure': 1212,\n",
       " 'Perl 6': 1157,\n",
       " 'sed': 379}"
      ]
     },
     "execution_count": 13,
     "metadata": {},
     "output_type": "execute_result"
    }
   ],
   "source": [
    "linux = octocat.get_repo('torvalds/linux')\n",
    "print(repo)\n",
    "linux.get_languages()"
   ]
  },
  {
   "cell_type": "markdown",
   "metadata": {},
   "source": [
    "2. Latest `torvalds/linux` releases\n",
    "    * API Equivalent: https://api.github.com/repos/torvalds/linux/tags\n",
    "\n",
    "*note: `torvalds/linux` releases aren't marked as such, but as tags*"
   ]
  },
  {
   "cell_type": "code",
   "execution_count": 43,
   "metadata": {},
   "outputs": [
    {
     "name": "stdout",
     "output_type": "stream",
     "text": [
      "Tag(name=\"v5.1\", commit=Commit(sha=\"e93c9c99a629c61837d5a7fc2120cd2b6c70dbdd\"))\n",
      "Tag(name=\"v5.1-rc7\", commit=Commit(sha=\"37624b58542fb9f2d9a70e6ea006ef8a5f66c30b\"))\n",
      "Tag(name=\"v5.1-rc6\", commit=Commit(sha=\"085b7755808aa11f78ab9377257e1dad2e6fa4bb\"))\n",
      "Tag(name=\"v5.1-rc5\", commit=Commit(sha=\"dc4060a5dc2557e6b5aa813bf5b73677299d62d2\"))\n",
      "Tag(name=\"v5.1-rc4\", commit=Commit(sha=\"15ade5d2e7775667cf191cf2f94327a4889f8b9d\"))\n",
      "Tag(name=\"v5.1-rc3\", commit=Commit(sha=\"79a3aaa7b82e3106be97842dedfd8429248896e6\"))\n",
      "Tag(name=\"v5.1-rc2\", commit=Commit(sha=\"8c2ffd9174779014c3fe1f96d9dc3641d9175f00\"))\n",
      "Tag(name=\"v5.1-rc1\", commit=Commit(sha=\"9e98c678c2d6ae3a17cb2de55d17f69dddaa231b\"))\n",
      "Tag(name=\"v5.0\", commit=Commit(sha=\"1c163f4c7b3f621efff9b28a47abb36f7378d783\"))\n",
      "Tag(name=\"v5.0-rc8\", commit=Commit(sha=\"5908e6b738e3357af42c10e1183753c70a0117a9\"))\n"
     ]
    }
   ],
   "source": [
    "# tags contains all tags for the repo\n",
    "tags = linux.get_tags()\n",
    "\n",
    "# we are going to sample only the last 10\n",
    "iterator_printer(tags, 10)"
   ]
  },
  {
   "cell_type": "markdown",
   "metadata": {},
   "source": [
    "3. All of `torvalds`' repos\n",
    "    * API Equivalent: https://api.github.com/users/torvalds/repos"
   ]
  },
  {
   "cell_type": "code",
   "execution_count": 15,
   "metadata": {},
   "outputs": [
    {
     "name": "stdout",
     "output_type": "stream",
     "text": [
      "Repository(full_name=\"torvalds/libdc-for-dirk\")\n",
      "Repository(full_name=\"torvalds/linux\")\n",
      "Repository(full_name=\"torvalds/pesconvert\")\n",
      "Repository(full_name=\"torvalds/subsurface-for-dirk\")\n",
      "Repository(full_name=\"torvalds/test-tlb\")\n",
      "Repository(full_name=\"torvalds/uemacs\")\n"
     ]
    }
   ],
   "source": [
    "torvalds = octocat.get_user('torvalds')\n",
    "repos = torvalds.get_repos()\n",
    "\n",
    "for repo in repos:\n",
    "    print(repo)"
   ]
  },
  {
   "cell_type": "markdown",
   "metadata": {},
   "source": [
    "4. Most popular `C language` repos\n",
    "    * API Equivalent: https://api.github.com/search/repositories?q=language:C"
   ]
  },
  {
   "cell_type": "code",
   "execution_count": 44,
   "metadata": {},
   "outputs": [
    {
     "name": "stdout",
     "output_type": "stream",
     "text": [
      "Repository(full_name=\"torvalds/linux\")\n",
      "Repository(full_name=\"netdata/netdata\")\n",
      "Repository(full_name=\"antirez/redis\")\n",
      "Repository(full_name=\"git/git\")\n",
      "Repository(full_name=\"bilibili/ijkplayer\")\n",
      "Repository(full_name=\"php/php-src\")\n",
      "Repository(full_name=\"wg/wrk\")\n",
      "Repository(full_name=\"SamyPesse/How-to-Make-a-Computer-Operating-System\")\n",
      "Repository(full_name=\"ggreer/the_silver_searcher\")\n",
      "Repository(full_name=\"julycoding/The-Art-Of-Programming-By-July\")\n"
     ]
    }
   ],
   "source": [
    "repos = octocat.search_repositories(query='language:C', sort='stars', order='desc')\n",
    "\n",
    "iterator_printer(repos, 10)"
   ]
  },
  {
   "cell_type": "markdown",
   "metadata": {},
   "source": [
    "5. Most forked `C` repos\n",
    "    * API Equivalent: https://api.github.com/search/repositories?q=language:C&sort=forks&order=desc"
   ]
  },
  {
   "cell_type": "code",
   "execution_count": 45,
   "metadata": {},
   "outputs": [
    {
     "name": "stdout",
     "output_type": "stream",
     "text": [
      "Repository(full_name=\"torvalds/linux\")\n",
      "Repository(full_name=\"git/git\")\n",
      "Repository(full_name=\"antirez/redis\")\n",
      "Repository(full_name=\"qmk/qmk_firmware\")\n",
      "Repository(full_name=\"pjreddie/darknet\")\n",
      "Repository(full_name=\"MarlinFirmware/Marlin\")\n",
      "Repository(full_name=\"esp8266/Arduino\")\n",
      "Repository(full_name=\"julycoding/The-Art-Of-Programming-By-July\")\n",
      "Repository(full_name=\"bilibili/ijkplayer\")\n",
      "Repository(full_name=\"FFmpeg/FFmpeg\")\n"
     ]
    }
   ],
   "source": [
    "repos = octocat.search_repositories(query='language:C', sort='forks', order='desc')\n",
    "\n",
    "iterator_printer(repos, 10)"
   ]
  },
  {
   "cell_type": "markdown",
   "metadata": {},
   "source": [
    "6. Most popular repos about 'microservices'\n",
    "    * API Equivalent: https://api.github.com/search/repositories?q=microservices&sort=stars&order=desc"
   ]
  },
  {
   "cell_type": "code",
   "execution_count": 46,
   "metadata": {},
   "outputs": [
    {
     "name": "stdout",
     "output_type": "stream",
     "text": [
      "Repository(full_name=\"i0natan/nodebestpractices\")\n",
      "Repository(full_name=\"apache/incubator-dubbo\")\n",
      "Repository(full_name=\"Kong/kong\")\n",
      "Repository(full_name=\"istio/istio\")\n",
      "Repository(full_name=\"nestjs/nest\")\n",
      "Repository(full_name=\"binhnguyennus/awesome-scalability\")\n",
      "Repository(full_name=\"ctripcorp/apollo\")\n",
      "Repository(full_name=\"go-kit/kit\")\n",
      "Repository(full_name=\"shuzheng/zheng\")\n",
      "Repository(full_name=\"dotnet-architecture/eShopOnContainers\")\n"
     ]
    }
   ],
   "source": [
    "repos = octocat.search_repositories(query='microservices', sort='stars', order='desc')\n",
    "\n",
    "iterator_printer(repos, 10)"
   ]
  },
  {
   "cell_type": "markdown",
   "metadata": {},
   "source": [
    "7. Most popular repos about 'html5' written in `JavaScript`\n",
    "    * API Equivalent: https://api.github.com/search/repositories?q=html5+language:Javascript&sort=stars&order=desc"
   ]
  },
  {
   "cell_type": "code",
   "execution_count": 47,
   "metadata": {},
   "outputs": [
    {
     "name": "stdout",
     "output_type": "stream",
     "text": [
      "Repository(full_name=\"chartjs/Chart.js\")\n",
      "Repository(full_name=\"videojs/video.js\")\n",
      "Repository(full_name=\"photonstorm/phaser\")\n",
      "Repository(full_name=\"Modernizr/Modernizr\")\n",
      "Repository(full_name=\"pixijs/pixi.js\")\n",
      "Repository(full_name=\"bilibili/flv.js\")\n",
      "Repository(full_name=\"sampotts/plyr\")\n",
      "Repository(full_name=\"handsontable/handsontable\")\n",
      "Repository(full_name=\"eligrey/FileSaver.js\")\n",
      "Repository(full_name=\"browserstate/history.js\")\n"
     ]
    }
   ],
   "source": [
    "repos = octocat.search_repositories(query='html5+language:Javascript', sort='stars', order='desc')\n",
    "\n",
    "iterator_printer(repos, 10)"
   ]
  },
  {
   "cell_type": "markdown",
   "metadata": {},
   "source": [
    "8. Repos containing the term 'fakenews'\n",
    "    * API Equivalent: https://api.github.com/search/repositories?q=fakenews"
   ]
  },
  {
   "cell_type": "code",
   "execution_count": 48,
   "metadata": {},
   "outputs": [
    {
     "name": "stdout",
     "output_type": "stream",
     "text": [
      "Repository(full_name=\"uclmr/fakenewschallenge\")\n",
      "Repository(full_name=\"KaiDMML/FakeNewsNet\")\n",
      "Repository(full_name=\"MAVProxyUser/P0VsRedHerring\")\n",
      "Repository(full_name=\"marktron/fakenews\")\n",
      "Repository(full_name=\"several27/FakeNewsCorpus\")\n",
      "Repository(full_name=\"raywenderlich/rwTODOs\")\n",
      "Repository(full_name=\"FakeNewsChallenge/fakenewschallenge.github.io\")\n",
      "Repository(full_name=\"BenjaminDHorne/fakenewsdata1\")\n",
      "Repository(full_name=\"bmbejcek/fakenews\")\n",
      "Repository(full_name=\"jgolbeck/fakenews\")\n"
     ]
    }
   ],
   "source": [
    "repos = octocat.search_repositories(query='fakenews')\n",
    "\n",
    "iterator_printer(repos, 10)"
   ]
  },
  {
   "cell_type": "markdown",
   "metadata": {},
   "source": [
    "9. Repos with 'android' in their name\n",
    "    * API Equivalent: https://api.github.com/search/repositories?q=name:android"
   ]
  },
  {
   "cell_type": "code",
   "execution_count": 49,
   "metadata": {},
   "outputs": [
    {
     "name": "stdout",
     "output_type": "stream",
     "text": [
      "Repository(full_name=\"109021017/android-TopActivity\")\n",
      "Repository(full_name=\"jaredrummler/AndroidDeviceNames\")\n",
      "Repository(full_name=\"inmite/android-selector-chapek\")\n",
      "Repository(full_name=\"DaxiaK/MyDiary\")\n",
      "Repository(full_name=\"evant/redux\")\n",
      "Repository(full_name=\"geniusgithub/Look-Around\")\n",
      "Repository(full_name=\"TreyCai/AndroidNamingConvention\")\n",
      "Repository(full_name=\"harshalbenake/hbworkspace2-100\")\n",
      "Repository(full_name=\"NexMM/android-naming-conventions\")\n",
      "Repository(full_name=\"myinnos/AppIconNameChanger\")\n"
     ]
    }
   ],
   "source": [
    "repos = octocat.search_repositories(query='name:android')\n",
    "\n",
    "iterator_printer(repos, 10)"
   ]
  },
  {
   "cell_type": "markdown",
   "metadata": {},
   "source": [
    "10. Repos with both 'android' and 'client' in their description\n",
    "    * API Equivalent: https://api.github.com/search/repositories?q=description:android+description:client"
   ]
  },
  {
   "cell_type": "code",
   "execution_count": 50,
   "metadata": {},
   "outputs": [
    {
     "name": "stdout",
     "output_type": "stream",
     "text": [
      "Repository(full_name=\"cubos/sdkgen\")\n",
      "Repository(full_name=\"EddyMM/Capstone-Project\")\n",
      "Repository(full_name=\"EmolLi/SignArch\")\n",
      "Repository(full_name=\"maxep/max-ws\")\n",
      "Repository(full_name=\"Chandrayee/Android_BluBot\")\n",
      "Repository(full_name=\"orinoco77/Bookcase\")\n",
      "Repository(full_name=\"KubaMiszcz/NaproKartaV4\")\n",
      "Repository(full_name=\"ajd12342/GitHub-Android\")\n",
      "Repository(full_name=\"shivampawargi/BloodBook\")\n",
      "Repository(full_name=\"RyxolSolutions/xamarin.android.parking\")\n"
     ]
    }
   ],
   "source": [
    "repos = octocat.search_repositories(query='description:android+description:client')\n",
    "\n",
    "iterator_printer(repos, 10)"
   ]
  },
  {
   "cell_type": "markdown",
   "metadata": {},
   "source": [
    "11. Repos containing 'circleCI' in their main `README.md`\n",
    "    * API Equivalent: https://api.github.com/search/repositories?q=circleCI+in:README"
   ]
  },
  {
   "cell_type": "code",
   "execution_count": 51,
   "metadata": {},
   "outputs": [
    {
     "name": "stdout",
     "output_type": "stream",
     "text": [
      "Repository(full_name=\"circleci/circleci-docs\")\n",
      "Repository(full_name=\"circleci/frontend\")\n",
      "Repository(full_name=\"CircleCI-Public/circleci-dockerfiles\")\n",
      "Repository(full_name=\"CircleCI-Public/circleci-demo-javascript-express\")\n",
      "Repository(full_name=\"CircleCI-Public/circleci-demo-python-django\")\n",
      "Repository(full_name=\"CircleCI-Public/circleci-demo-php-laravel\")\n",
      "Repository(full_name=\"circleci/enterprise-setup\")\n",
      "Repository(full_name=\"mtchavez/circleci\")\n",
      "Repository(full_name=\"CircleCI-Public/circleci-demo-go\")\n",
      "Repository(full_name=\"cypress-io/cypress-example-docker-circle\")\n"
     ]
    }
   ],
   "source": [
    "repos = octocat.search_repositories(query='circleCI+in:README.md')\n",
    "\n",
    "iterator_printer(repos, 10)"
   ]
  },
  {
   "cell_type": "markdown",
   "metadata": {},
   "source": [
    "12. Issues with 'critical' label on `Javascript` repos\n",
    "    * API Equivalent: https://api.github.com/search/issues?q=critical+language:Javascript"
   ]
  },
  {
   "cell_type": "code",
   "execution_count": 52,
   "metadata": {},
   "outputs": [
    {
     "name": "stdout",
     "output_type": "stream",
     "text": [
      "Issue(title=\"critical issue resolved\", number=20)\n",
      "Issue(title=\"critical path css\", number=10)\n",
      "Issue(title=\"Critical vulnerability issue\", number=15)\n",
      "Issue(title=\"One Critical Request\", number=4)\n",
      "Issue(title=\"Critical Biodiversity Area (CBA) Layer \", number=1256)\n",
      "Issue(title=\"Critical: Sign-up Option\", number=47)\n",
      "Issue(title=\"inform users about new critical functions\", number=600)\n",
      "Issue(title=\"CRITICAL: envinfo taking forever to execute\", number=99)\n",
      "Issue(title=\"cards sparkle if critical\", number=333)\n",
      "Issue(title=\"Critical, fatal error 'NoneType' object has to no attribute 'read'\", number=128)\n"
     ]
    }
   ],
   "source": [
    "issues = octocat.search_issues(query='critical+language:Javascript')\n",
    "\n",
    "iterator_printer(issues, 10)"
   ]
  },
  {
   "cell_type": "markdown",
   "metadata": {},
   "source": [
    "13. Issues with 'bug' label that are already closed on `Golang` repos\n",
    "    * API Equivalent: https://api.github.com/search/issues?q=bug+language:Go+state:closed"
   ]
  },
  {
   "cell_type": "code",
   "execution_count": 53,
   "metadata": {},
   "outputs": [
    {
     "name": "stdout",
     "output_type": "stream",
     "text": [
      "Issue(title=\"bug buggy bug bug\", number=99)\n",
      "Issue(title=\"[BUG] A bug\", number=7)\n",
      "Issue(title=\"bug bug buggity bug buggy bug\", number=110)\n",
      "Issue(title=\"Bug - Thursday bug\", number=7)\n",
      "Issue(title=\"bugs\", number=2)\n",
      "Issue(title=\"Bug\", number=11)\n",
      "Issue(title=\"bug\", number=2)\n",
      "Issue(title=\"[BUG]\", number=111)\n",
      "Issue(title=\"bug bug bug\", number=23)\n",
      "Issue(title=\"bug bug bug\", number=22)\n"
     ]
    }
   ],
   "source": [
    "issues = octocat.search_issues(query='bug+language:Go+state:closed')\n",
    "\n",
    "iterator_printer(issues, 10)"
   ]
  },
  {
   "cell_type": "markdown",
   "metadata": {},
   "source": [
    "14. Issues with 'needhelp' label that are open on `Javascript` repos\n",
    "    * API Equivalent: https://api.github.com/search/issues?q=needhelp+language:Javascript+state:open"
   ]
  },
  {
   "cell_type": "code",
   "execution_count": 54,
   "metadata": {},
   "outputs": [
    {
     "name": "stdout",
     "output_type": "stream",
     "text": [
      "Issue(title=\"NeedHelp\", number=1)\n",
      "Issue(title=\"Seg fault #needhelp\", number=158)\n",
      "Issue(title=\"NEEDHELP: spec tests doesn't run\", number=199)\n",
      "Issue(title=\"[website] UX issue on home page\", number=1341)\n",
      "Issue(title=\"How can we help\", number=2)\n",
      "Issue(title=\"run multi - conditions within one line?\", number=213)\n",
      "Issue(title=\"highlight modules or dists with ADOPTME or HANDOFF or NEEDHELP\", number=1643)\n",
      "Issue(title=\"colors should be abstract\", number=30)\n",
      "Issue(title=\"Help needed\", number=274)\n",
      "Issue(title=\"You tube url clarify\", number=97)\n"
     ]
    }
   ],
   "source": [
    "issues = octocat.search_issues(query='needhelp+language:Javascript+state:open')\n",
    "\n",
    "iterator_printer(issues, 10)"
   ]
  },
  {
   "cell_type": "markdown",
   "metadata": {},
   "source": [
    "15. Oldest issues with 'feature' label that are still open\n",
    "    * API Equivalent: https://api.github.com/search/issues?q=feature+state:open&sort=created&order=asc"
   ]
  },
  {
   "cell_type": "code",
   "execution_count": 39,
   "metadata": {},
   "outputs": [
    {
     "name": "stdout",
     "output_type": "stream",
     "text": [
      "Issue(title=\"Slowness in BeanShell\", number=141) 2001-01-26 01:42:59\n",
      "Issue(title=\"Reduce beanshell footprint\", number=90) 2001-02-08 19:35:24\n",
      "Issue(title=\"understand / ignore hex numbers\", number=24) 2001-03-20 03:14:51\n",
      "Issue(title=\"ocamlbrowser and load path ...\", number=2902) 2001-08-15 07:11:49\n",
      "Issue(title=\"tex encodings for special characters\", number=39) 2001-11-20 23:43:40\n",
      "Issue(title=\"wishes concerning documentation\", number=3131) 2002-01-08 08:25:02\n",
      "Issue(title=\"Feature wish: Event.timeout\", number=3134) 2002-01-09 10:53:34\n",
      "Issue(title=\"Varying semantics of Unix.utimes\", number=3145) 2002-01-10 19:49:23\n",
      "Issue(title=\"More specific exceptions\", number=91) 2002-02-06 15:04:39\n",
      "Issue(title=\"toggledecor doesn't work\", number=26) 2002-03-26 17:44:48\n"
     ]
    }
   ],
   "source": [
    "issues = octocat.search_issues(query='feature+state:open', sort='created', order='asc')\n",
    "\n",
    "it = 0\n",
    "for issue in issues:\n",
    "    print(issue, issue.created_at)\n",
    "    it += 1\n",
    "    if it == 10:\n",
    "        break"
   ]
  },
  {
   "cell_type": "code",
   "execution_count": null,
   "metadata": {},
   "outputs": [],
   "source": []
  }
 ],
 "metadata": {
  "kernelspec": {
   "display_name": "Python 3",
   "language": "python",
   "name": "python3"
  },
  "language_info": {
   "codemirror_mode": {
    "name": "ipython",
    "version": 3
   },
   "file_extension": ".py",
   "mimetype": "text/x-python",
   "name": "python",
   "nbconvert_exporter": "python",
   "pygments_lexer": "ipython3",
   "version": "3.7.3"
  }
 },
 "nbformat": 4,
 "nbformat_minor": 2
}
