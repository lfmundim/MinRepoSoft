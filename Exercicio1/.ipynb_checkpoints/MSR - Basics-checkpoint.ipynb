{
 "cells": [
  {
   "cell_type": "markdown",
   "metadata": {},
   "source": [
    "#  Mining Software Repositories - Basics\n",
    "\n",
    "A few possible things to gather from any Git Repo by using `Python` and `GitPython`.\n",
    "\n",
    "The implementations viewed here are *examples*. There probably are more *efficient* ways to do most of what is shown here, but this notebook aims to give basic examples to motivate the study of Git Repos."
   ]
  },
  {
   "cell_type": "markdown",
   "metadata": {},
   "source": [
    "## Startup\n",
    "\n",
    "First of all you'll need to install `gitpython`. You can check on how to [Here](https://gitpython.readthedocs.io/en/stable/). Assuming you already have `Python3` installed, all you need to do is type the following in your terminal:\n",
    "\n",
    "```bash\n",
    "pip install gitpython\n",
    "```\n",
    "\n",
    "After doing so, create your `.py` file, and lets get started."
   ]
  },
  {
   "cell_type": "code",
   "execution_count": 4,
   "metadata": {},
   "outputs": [],
   "source": [
    "from git import Repo\n",
    "# we will also use Regex and time manipulation for this project, so lets add those as well\n",
    "import time\n",
    "import re as regex"
   ]
  },
  {
   "cell_type": "markdown",
   "metadata": {},
   "source": [
    "We will need a repo to use. GitPython allows you to clone by using a simple function:"
   ]
  },
  {
   "cell_type": "code",
   "execution_count": 6,
   "metadata": {},
   "outputs": [
    {
     "data": {
      "text/plain": [
       "<git.Repo \"/Volumes/Storage/Git/MinRepoSoft/Exercicio1/lime-csharp/.git\">"
      ]
     },
     "execution_count": 6,
     "metadata": {},
     "output_type": "execute_result"
    }
   ],
   "source": [
    "# Repo.clone_from(repo_url, directory_to_clone_onto)\n",
    "# This example will clone the repo 'lime-csharp' from 'takenet' onto the './lime-chsarp'\n",
    "Repo.clone_from('https://github.com/takenet/lime-csharp', './lime-csharp')"
   ]
  },
  {
   "cell_type": "markdown",
   "metadata": {},
   "source": [
    "If you already have a repo you want to use, you can simply select it:"
   ]
  },
  {
   "cell_type": "code",
   "execution_count": 8,
   "metadata": {},
   "outputs": [],
   "source": [
    "# Repo(repo_folder)\n",
    "# We are selecting the above-cloned repo\n",
    "repo = Repo('./lime-csharp')"
   ]
  },
  {
   "cell_type": "markdown",
   "metadata": {},
   "source": [
    "We now have a cloned and referenced repo to use.\n",
    "\n",
    "Lets start as simple as it gets: how many commits does the repo have?"
   ]
  },
  {
   "cell_type": "code",
   "execution_count": 11,
   "metadata": {},
   "outputs": [
    {
     "name": "stdout",
     "output_type": "stream",
     "text": [
      "Total number of repo commits: 1151\n"
     ]
    }
   ],
   "source": [
    "# Create an iterable with all commits from the repo\n",
    "allCommits = repo.iter_commits()\n",
    "\n",
    "# Count how many commits exist\n",
    "count = 0\n",
    "while True:\n",
    "    try:\n",
    "        element = next(allCommits)\n",
    "        count += 1\n",
    "    except StopIteration:\n",
    "        break;\n",
    "print('Total number of repo commits: %d'%count)"
   ]
  },
  {
   "cell_type": "markdown",
   "metadata": {},
   "source": []
  }
 ],
 "metadata": {
  "kernelspec": {
   "display_name": "Python 3",
   "language": "python",
   "name": "python3"
  },
  "language_info": {
   "codemirror_mode": {
    "name": "ipython",
    "version": 3
   },
   "file_extension": ".py",
   "mimetype": "text/x-python",
   "name": "python",
   "nbconvert_exporter": "python",
   "pygments_lexer": "ipython3",
   "version": "3.7.2"
  }
 },
 "nbformat": 4,
 "nbformat_minor": 2
}
